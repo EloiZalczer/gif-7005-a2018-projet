{
 "cells": [
  {
   "cell_type": "code",
   "execution_count": 34,
   "metadata": {
    "scrolled": true
   },
   "outputs": [],
   "source": [
    "from __future__ import unicode_literals\n",
    "import youtube_dl\n",
    "import subprocess\n",
    "\n",
    "def download_sample(url, start_time, end_time):\n",
    "    ydl_opts = {\n",
    "        'outtmpl': 'sound.wav', \n",
    "        'format': 'bestaudio/best',\n",
    "        'postprocessors': [{\n",
    "            'key': 'FFmpegExtractAudio',\n",
    "            'preferredcodec': 'wav',\n",
    "            'preferredquality': '192',\n",
    "        }],\n",
    "    }\n",
    "    print(start_time, end_time)\n",
    "    with youtube_dl.YoutubeDL(ydl_opts) as ydl:\n",
    "        ydl.download(['https://www.youtube.com/watch?v='+url+'&feature=youtu.be'])\n",
    "        subprocess.call(['ffmpeg', '-i', 'sound.wav', '-ss', start_time, '-to', end_time, '-acodec', 'pcm_s16le', '_'+url+'.wav'])\n",
    "    \n",
    "    subprocess.call(['rm', 'sound.wav'])"
   ]
  },
  {
   "cell_type": "code",
   "execution_count": 35,
   "metadata": {
    "scrolled": true
   },
   "outputs": [
    {
     "name": "stdout",
     "output_type": "stream",
     "text": [
      " 50.000  60.000\n",
      "[youtube] --ZhevVpy1s: Downloading webpage\n",
      "[youtube] --ZhevVpy1s: Downloading video info webpage\n",
      "[youtube] --ZhevVpy1s: Downloading MPD manifest\n",
      "[youtube] --ZhevVpy1s: Downloading MPD manifest\n",
      "[dashsegments] Total fragments: 12\n",
      "[download] Destination: sound.wav\n",
      "[download] 100% of 1.65MiB in 00:028.23KiB/s ETA 00:0002\n",
      "[ffmpeg] Correcting container in \"sound.wav\"\n",
      "[ffmpeg] Post-process file sound.wav exists, skipping\n",
      " 0.000  10.000\n",
      "[youtube] --aE2O5G5WE: Downloading webpage\n",
      "[youtube] --aE2O5G5WE: Downloading video info webpage\n",
      "[download] Destination: sound.wav\n",
      "[download] 100% of 315.67KiB in 00:0020MiB/s ETA 00:000\n",
      "[ffmpeg] Correcting container in \"sound.wav\"\n",
      "[ffmpeg] Post-process file sound.wav exists, skipping\n",
      " 30.000  40.000\n",
      "[youtube] --aO5cdqSAg: Downloading webpage\n",
      "[youtube] --aO5cdqSAg: Downloading video info webpage\n",
      "[download] Destination: sound.wav\n",
      "[download] 100% of 2.05MiB in 00:0024MiB/s ETA 00:002\n",
      "[ffmpeg] Post-process file sound.wav exists, skipping\n",
      " 200.000  210.000\n",
      "[youtube] --aaILOrkII: Downloading webpage\n",
      "[youtube] --aaILOrkII: Downloading video info webpage\n",
      "[download] Destination: sound.wav\n",
      "[download] 100% of 3.25MiB in 00:0019MiB/s ETA 00:003\n",
      "[ffmpeg] Post-process file sound.wav exists, skipping\n",
      " 30.000  40.000\n",
      "[youtube] --cB2ZVjpnA: Downloading webpage\n",
      "[youtube] --cB2ZVjpnA: Downloading video info webpage\n",
      "[download] Destination: sound.wav\n",
      "[download] 100% of 1.43MiB in 00:0069MiB/s ETA 00:002\n",
      "[ffmpeg] Post-process file sound.wav exists, skipping\n",
      " 30.000  40.000\n",
      "[youtube] --ekDLDTUXA: Downloading webpage\n",
      "[youtube] --ekDLDTUXA: Downloading video info webpage\n",
      "[download] Destination: sound.wav\n",
      "[download] 100% of 3.47MiB in 00:0184MiB/s ETA 00:005\n",
      "[ffmpeg] Post-process file sound.wav exists, skipping\n",
      "['setup.py', '_--aaILOrkII.wav', 'models', 'data', '.ipynb_checkpoints', 'convert_data2.py', 'model.pt', 'requirements.txt', '.gitignore', '_--cB2ZVjpnA.wav', 'ontology.json', '_--aE2O5G5WE.wav', 'README.md', 'a2018-projet', 'features.tar.gz', '_--ZhevVpy1s.wav', 'balanced_train_segments.csv', '_--aO5cdqSAg.wav', '_--ekDLDTUXA.wav', 'class_labels_indices.csv', 'Youtube to mp3.ipynb', 'yt_to_img.py', '.git', 'tests']\n"
     ]
    }
   ],
   "source": [
    "import csv\n",
    "import json\n",
    "count = 0\n",
    "\n",
    "subprocess.call(['rm', '*.wav'])\n",
    "\n",
    "with open('balanced_train_segments.csv', 'r', newline='') as csvfile:\n",
    "    spamreader = csv.reader(csvfile, delimiter=',', quotechar='|')\n",
    "    for row in spamreader:\n",
    "        count += 1\n",
    "        if (count >= 5):\n",
    "            #print(', '.join(row))\n",
    "            try:\n",
    "                download_sample(row[0], row[1], row[2]) \n",
    "            except Exception as inst:\n",
    "                print(inst)\n",
    "            if(count >= 10):\n",
    "                break\n",
    "\n",
    "\n",
    "print(os.listdir())"
   ]
  },
  {
   "cell_type": "code",
   "execution_count": 36,
   "metadata": {},
   "outputs": [
    {
     "name": "stdout",
     "output_type": "stream",
     "text": [
      "['setup.py', '_--aaILOrkII.wav', 'models', 'data', '.ipynb_checkpoints', 'convert_data2.py', 'model.pt', 'requirements.txt', '.gitignore', '_--cB2ZVjpnA.wav', 'ontology.json', '_--aE2O5G5WE.wav', 'README.md', 'a2018-projet', 'features.tar.gz', '_--ZhevVpy1s.wav', 'balanced_train_segments.csv', '_--aO5cdqSAg.wav', '_--ekDLDTUXA.wav', 'class_labels_indices.csv', 'Youtube to mp3.ipynb', 'yt_to_img.py', '.git', 'tests']\n"
     ]
    }
   ],
   "source": [
    "import numpy as np\n",
    "import sys\n",
    "sys.path.insert(0, './models/research/audioset/')\n",
    "from vggish_input import wavfile_to_examples\n",
    "import os\n",
    "\n",
    "files = list(filter(lambda s: s[-4:] == '.wav',os.listdir()))\n",
    "\n",
    "X = np.zeros((1,96,64))\n",
    "\n",
    "for i in range(len(files)):\n",
    "    X = np.concatenate((X, wavfile_to_examples(files[i])), axis = 0)\n",
    "    \n",
    "X = X[1:,:,:]\n"
   ]
  },
  {
   "cell_type": "code",
   "execution_count": 64,
   "metadata": {},
   "outputs": [],
   "source": [
    "import sys\n",
    "sys.path.insert(0, './models/research/audioset/')\n",
    "from vggish_postprocess import Postprocessor\n",
    "import tensorflow as tf\n",
    "import vggish_slim\n",
    "\n",
    "example = './_--ZhevVpy1s.wav'\n",
    "\n",
    "subprocess.call(['python3', 'models/research/audioset/custom_inference.py', example])\n",
    "\n",
    "PCAexample = np.load(\"./PCA.npy\")\n"
   ]
  },
  {
   "cell_type": "code",
   "execution_count": 66,
   "metadata": {},
   "outputs": [
    {
     "data": {
      "text/plain": [
       "(5, 128)"
      ]
     },
     "execution_count": 66,
     "metadata": {},
     "output_type": "execute_result"
    }
   ],
   "source": [
    "PCAexample.shape"
   ]
  },
  {
   "cell_type": "code",
   "execution_count": 37,
   "metadata": {},
   "outputs": [
    {
     "name": "stdout",
     "output_type": "stream",
     "text": [
      "(96, 64)\n"
     ]
    },
    {
     "data": {
      "text/plain": [
       "<Figure size 640x480 with 2 Axes>"
      ]
     },
     "metadata": {},
     "output_type": "display_data"
    },
    {
     "name": "stdout",
     "output_type": "stream",
     "text": [
      "(96, 64)\n"
     ]
    },
    {
     "data": {
      "text/plain": [
       "<Figure size 640x480 with 2 Axes>"
      ]
     },
     "metadata": {},
     "output_type": "display_data"
    },
    {
     "name": "stdout",
     "output_type": "stream",
     "text": [
      "(96, 64)\n"
     ]
    },
    {
     "data": {
      "text/plain": [
       "<Figure size 640x480 with 2 Axes>"
      ]
     },
     "metadata": {},
     "output_type": "display_data"
    },
    {
     "name": "stdout",
     "output_type": "stream",
     "text": [
      "(96, 64)\n"
     ]
    },
    {
     "data": {
      "text/plain": [
       "<Figure size 640x480 with 2 Axes>"
      ]
     },
     "metadata": {},
     "output_type": "display_data"
    },
    {
     "name": "stdout",
     "output_type": "stream",
     "text": [
      "(96, 64)\n"
     ]
    },
    {
     "data": {
      "text/plain": [
       "<Figure size 640x480 with 2 Axes>"
      ]
     },
     "metadata": {},
     "output_type": "display_data"
    },
    {
     "name": "stdout",
     "output_type": "stream",
     "text": [
      "(96, 64)\n"
     ]
    },
    {
     "data": {
      "text/plain": [
       "<Figure size 640x480 with 2 Axes>"
      ]
     },
     "metadata": {},
     "output_type": "display_data"
    },
    {
     "name": "stdout",
     "output_type": "stream",
     "text": [
      "(96, 64)\n"
     ]
    },
    {
     "data": {
      "text/plain": [
       "<Figure size 640x480 with 2 Axes>"
      ]
     },
     "metadata": {},
     "output_type": "display_data"
    },
    {
     "name": "stdout",
     "output_type": "stream",
     "text": [
      "(96, 64)\n"
     ]
    },
    {
     "data": {
      "text/plain": [
       "<Figure size 640x480 with 2 Axes>"
      ]
     },
     "metadata": {},
     "output_type": "display_data"
    },
    {
     "name": "stdout",
     "output_type": "stream",
     "text": [
      "(96, 64)\n"
     ]
    },
    {
     "data": {
      "text/plain": [
       "<Figure size 640x480 with 2 Axes>"
      ]
     },
     "metadata": {},
     "output_type": "display_data"
    },
    {
     "name": "stdout",
     "output_type": "stream",
     "text": [
      "(96, 64)\n"
     ]
    },
    {
     "data": {
      "text/plain": [
       "<Figure size 640x480 with 2 Axes>"
      ]
     },
     "metadata": {},
     "output_type": "display_data"
    },
    {
     "name": "stdout",
     "output_type": "stream",
     "text": [
      "(96, 64)\n"
     ]
    },
    {
     "data": {
      "text/plain": [
       "<Figure size 640x480 with 2 Axes>"
      ]
     },
     "metadata": {},
     "output_type": "display_data"
    },
    {
     "name": "stdout",
     "output_type": "stream",
     "text": [
      "(96, 64)\n"
     ]
    },
    {
     "data": {
      "text/plain": [
       "<Figure size 640x480 with 2 Axes>"
      ]
     },
     "metadata": {},
     "output_type": "display_data"
    },
    {
     "name": "stdout",
     "output_type": "stream",
     "text": [
      "(96, 64)\n"
     ]
    },
    {
     "data": {
      "text/plain": [
       "<Figure size 640x480 with 2 Axes>"
      ]
     },
     "metadata": {},
     "output_type": "display_data"
    },
    {
     "name": "stdout",
     "output_type": "stream",
     "text": [
      "(96, 64)\n"
     ]
    },
    {
     "data": {
      "text/plain": [
       "<Figure size 640x480 with 2 Axes>"
      ]
     },
     "metadata": {},
     "output_type": "display_data"
    },
    {
     "name": "stdout",
     "output_type": "stream",
     "text": [
      "(96, 64)\n"
     ]
    },
    {
     "data": {
      "text/plain": [
       "<Figure size 640x480 with 2 Axes>"
      ]
     },
     "metadata": {},
     "output_type": "display_data"
    },
    {
     "name": "stdout",
     "output_type": "stream",
     "text": [
      "(96, 64)\n"
     ]
    },
    {
     "data": {
      "text/plain": [
       "<Figure size 640x480 with 2 Axes>"
      ]
     },
     "metadata": {},
     "output_type": "display_data"
    },
    {
     "name": "stdout",
     "output_type": "stream",
     "text": [
      "(96, 64)\n"
     ]
    },
    {
     "data": {
      "text/plain": [
       "<Figure size 640x480 with 2 Axes>"
      ]
     },
     "metadata": {},
     "output_type": "display_data"
    },
    {
     "name": "stdout",
     "output_type": "stream",
     "text": [
      "(96, 64)\n"
     ]
    },
    {
     "data": {
      "text/plain": [
       "<Figure size 640x480 with 2 Axes>"
      ]
     },
     "metadata": {},
     "output_type": "display_data"
    },
    {
     "name": "stdout",
     "output_type": "stream",
     "text": [
      "(96, 64)\n"
     ]
    },
    {
     "data": {
      "text/plain": [
       "<Figure size 640x480 with 2 Axes>"
      ]
     },
     "metadata": {},
     "output_type": "display_data"
    },
    {
     "name": "stdout",
     "output_type": "stream",
     "text": [
      "(96, 64)\n"
     ]
    },
    {
     "data": {
      "text/plain": [
       "<Figure size 640x480 with 2 Axes>"
      ]
     },
     "metadata": {},
     "output_type": "display_data"
    },
    {
     "name": "stdout",
     "output_type": "stream",
     "text": [
      "(96, 64)\n"
     ]
    },
    {
     "data": {
      "text/plain": [
       "<Figure size 640x480 with 2 Axes>"
      ]
     },
     "metadata": {},
     "output_type": "display_data"
    },
    {
     "name": "stdout",
     "output_type": "stream",
     "text": [
      "(96, 64)\n"
     ]
    },
    {
     "data": {
      "text/plain": [
       "<Figure size 640x480 with 2 Axes>"
      ]
     },
     "metadata": {},
     "output_type": "display_data"
    },
    {
     "name": "stdout",
     "output_type": "stream",
     "text": [
      "(96, 64)\n"
     ]
    },
    {
     "data": {
      "text/plain": [
       "<Figure size 640x480 with 2 Axes>"
      ]
     },
     "metadata": {},
     "output_type": "display_data"
    },
    {
     "name": "stdout",
     "output_type": "stream",
     "text": [
      "(96, 64)\n"
     ]
    },
    {
     "data": {
      "text/plain": [
       "<Figure size 640x480 with 2 Axes>"
      ]
     },
     "metadata": {},
     "output_type": "display_data"
    },
    {
     "name": "stdout",
     "output_type": "stream",
     "text": [
      "(96, 64)\n"
     ]
    },
    {
     "data": {
      "text/plain": [
       "<Figure size 640x480 with 2 Axes>"
      ]
     },
     "metadata": {},
     "output_type": "display_data"
    },
    {
     "name": "stdout",
     "output_type": "stream",
     "text": [
      "(96, 64)\n"
     ]
    },
    {
     "data": {
      "text/plain": [
       "<Figure size 640x480 with 2 Axes>"
      ]
     },
     "metadata": {},
     "output_type": "display_data"
    },
    {
     "name": "stdout",
     "output_type": "stream",
     "text": [
      "(96, 64)\n"
     ]
    },
    {
     "data": {
      "text/plain": [
       "<Figure size 640x480 with 2 Axes>"
      ]
     },
     "metadata": {},
     "output_type": "display_data"
    },
    {
     "name": "stdout",
     "output_type": "stream",
     "text": [
      "(96, 64)\n"
     ]
    },
    {
     "data": {
      "text/plain": [
       "<Figure size 640x480 with 2 Axes>"
      ]
     },
     "metadata": {},
     "output_type": "display_data"
    },
    {
     "name": "stdout",
     "output_type": "stream",
     "text": [
      "(96, 64)\n"
     ]
    },
    {
     "data": {
      "text/plain": [
       "<Figure size 640x480 with 2 Axes>"
      ]
     },
     "metadata": {},
     "output_type": "display_data"
    },
    {
     "name": "stdout",
     "output_type": "stream",
     "text": [
      "(96, 64)\n"
     ]
    },
    {
     "data": {
      "text/plain": [
       "<Figure size 640x480 with 2 Axes>"
      ]
     },
     "metadata": {},
     "output_type": "display_data"
    },
    {
     "name": "stdout",
     "output_type": "stream",
     "text": [
      "(96, 64)\n"
     ]
    },
    {
     "data": {
      "text/plain": [
       "<Figure size 640x480 with 2 Axes>"
      ]
     },
     "metadata": {},
     "output_type": "display_data"
    },
    {
     "name": "stdout",
     "output_type": "stream",
     "text": [
      "(96, 64)\n"
     ]
    },
    {
     "data": {
      "text/plain": [
       "<Figure size 640x480 with 2 Axes>"
      ]
     },
     "metadata": {},
     "output_type": "display_data"
    },
    {
     "name": "stdout",
     "output_type": "stream",
     "text": [
      "(96, 64)\n"
     ]
    },
    {
     "data": {
      "text/plain": [
       "<Figure size 640x480 with 2 Axes>"
      ]
     },
     "metadata": {},
     "output_type": "display_data"
    },
    {
     "name": "stdout",
     "output_type": "stream",
     "text": [
      "(96, 64)\n"
     ]
    },
    {
     "data": {
      "text/plain": [
       "<Figure size 640x480 with 2 Axes>"
      ]
     },
     "metadata": {},
     "output_type": "display_data"
    },
    {
     "name": "stdout",
     "output_type": "stream",
     "text": [
      "(96, 64)\n"
     ]
    },
    {
     "data": {
      "text/plain": [
       "<Figure size 640x480 with 2 Axes>"
      ]
     },
     "metadata": {},
     "output_type": "display_data"
    },
    {
     "name": "stdout",
     "output_type": "stream",
     "text": [
      "(96, 64)\n"
     ]
    },
    {
     "data": {
      "text/plain": [
       "<Figure size 640x480 with 2 Axes>"
      ]
     },
     "metadata": {},
     "output_type": "display_data"
    },
    {
     "name": "stdout",
     "output_type": "stream",
     "text": [
      "(96, 64)\n"
     ]
    },
    {
     "data": {
      "text/plain": [
       "<Figure size 640x480 with 2 Axes>"
      ]
     },
     "metadata": {},
     "output_type": "display_data"
    },
    {
     "name": "stdout",
     "output_type": "stream",
     "text": [
      "(96, 64)\n"
     ]
    },
    {
     "data": {
      "text/plain": [
       "<Figure size 640x480 with 2 Axes>"
      ]
     },
     "metadata": {},
     "output_type": "display_data"
    },
    {
     "name": "stdout",
     "output_type": "stream",
     "text": [
      "(96, 64)\n"
     ]
    },
    {
     "data": {
      "text/plain": [
       "<Figure size 640x480 with 2 Axes>"
      ]
     },
     "metadata": {},
     "output_type": "display_data"
    },
    {
     "name": "stdout",
     "output_type": "stream",
     "text": [
      "(96, 64)\n"
     ]
    },
    {
     "data": {
      "text/plain": [
       "<Figure size 640x480 with 2 Axes>"
      ]
     },
     "metadata": {},
     "output_type": "display_data"
    },
    {
     "name": "stdout",
     "output_type": "stream",
     "text": [
      "(96, 64)\n"
     ]
    },
    {
     "data": {
      "text/plain": [
       "<Figure size 640x480 with 2 Axes>"
      ]
     },
     "metadata": {},
     "output_type": "display_data"
    },
    {
     "name": "stdout",
     "output_type": "stream",
     "text": [
      "(96, 64)\n"
     ]
    },
    {
     "data": {
      "text/plain": [
       "<Figure size 640x480 with 2 Axes>"
      ]
     },
     "metadata": {},
     "output_type": "display_data"
    },
    {
     "name": "stdout",
     "output_type": "stream",
     "text": [
      "(96, 64)\n"
     ]
    },
    {
     "data": {
      "text/plain": [
       "<Figure size 640x480 with 2 Axes>"
      ]
     },
     "metadata": {},
     "output_type": "display_data"
    },
    {
     "name": "stdout",
     "output_type": "stream",
     "text": [
      "(96, 64)\n"
     ]
    },
    {
     "data": {
      "text/plain": [
       "<Figure size 640x480 with 2 Axes>"
      ]
     },
     "metadata": {},
     "output_type": "display_data"
    },
    {
     "name": "stdout",
     "output_type": "stream",
     "text": [
      "(96, 64)\n"
     ]
    },
    {
     "data": {
      "text/plain": [
       "<Figure size 640x480 with 2 Axes>"
      ]
     },
     "metadata": {},
     "output_type": "display_data"
    },
    {
     "name": "stdout",
     "output_type": "stream",
     "text": [
      "(96, 64)\n"
     ]
    },
    {
     "data": {
      "text/plain": [
       "<Figure size 640x480 with 2 Axes>"
      ]
     },
     "metadata": {},
     "output_type": "display_data"
    },
    {
     "name": "stdout",
     "output_type": "stream",
     "text": [
      "(96, 64)\n"
     ]
    },
    {
     "data": {
      "text/plain": [
       "<Figure size 640x480 with 2 Axes>"
      ]
     },
     "metadata": {},
     "output_type": "display_data"
    },
    {
     "name": "stdout",
     "output_type": "stream",
     "text": [
      "(96, 64)\n"
     ]
    },
    {
     "data": {
      "text/plain": [
       "<Figure size 640x480 with 2 Axes>"
      ]
     },
     "metadata": {},
     "output_type": "display_data"
    },
    {
     "name": "stdout",
     "output_type": "stream",
     "text": [
      "(96, 64)\n"
     ]
    },
    {
     "data": {
      "text/plain": [
       "<Figure size 640x480 with 2 Axes>"
      ]
     },
     "metadata": {},
     "output_type": "display_data"
    },
    {
     "name": "stdout",
     "output_type": "stream",
     "text": [
      "(96, 64)\n"
     ]
    },
    {
     "data": {
      "text/plain": [
       "<Figure size 640x480 with 2 Axes>"
      ]
     },
     "metadata": {},
     "output_type": "display_data"
    },
    {
     "name": "stdout",
     "output_type": "stream",
     "text": [
      "(96, 64)\n"
     ]
    },
    {
     "data": {
      "text/plain": [
       "<Figure size 640x480 with 2 Axes>"
      ]
     },
     "metadata": {},
     "output_type": "display_data"
    },
    {
     "name": "stdout",
     "output_type": "stream",
     "text": [
      "(96, 64)\n"
     ]
    },
    {
     "data": {
      "text/plain": [
       "<Figure size 640x480 with 2 Axes>"
      ]
     },
     "metadata": {},
     "output_type": "display_data"
    },
    {
     "name": "stdout",
     "output_type": "stream",
     "text": [
      "(96, 64)\n"
     ]
    },
    {
     "data": {
      "text/plain": [
       "<Figure size 640x480 with 2 Axes>"
      ]
     },
     "metadata": {},
     "output_type": "display_data"
    },
    {
     "name": "stdout",
     "output_type": "stream",
     "text": [
      "(96, 64)\n"
     ]
    },
    {
     "data": {
      "text/plain": [
       "<Figure size 640x480 with 2 Axes>"
      ]
     },
     "metadata": {},
     "output_type": "display_data"
    },
    {
     "name": "stdout",
     "output_type": "stream",
     "text": [
      "(96, 64)\n"
     ]
    },
    {
     "data": {
      "text/plain": [
       "<Figure size 640x480 with 2 Axes>"
      ]
     },
     "metadata": {},
     "output_type": "display_data"
    },
    {
     "name": "stdout",
     "output_type": "stream",
     "text": [
      "(96, 64)\n"
     ]
    },
    {
     "data": {
      "text/plain": [
       "<Figure size 640x480 with 2 Axes>"
      ]
     },
     "metadata": {},
     "output_type": "display_data"
    },
    {
     "name": "stdout",
     "output_type": "stream",
     "text": [
      "(96, 64)\n"
     ]
    },
    {
     "data": {
      "text/plain": [
       "<Figure size 640x480 with 2 Axes>"
      ]
     },
     "metadata": {},
     "output_type": "display_data"
    },
    {
     "name": "stdout",
     "output_type": "stream",
     "text": [
      "(96, 64)\n"
     ]
    },
    {
     "data": {
      "text/plain": [
       "<Figure size 640x480 with 2 Axes>"
      ]
     },
     "metadata": {},
     "output_type": "display_data"
    },
    {
     "name": "stdout",
     "output_type": "stream",
     "text": [
      "(96, 64)\n"
     ]
    },
    {
     "data": {
      "text/plain": [
       "<Figure size 640x480 with 2 Axes>"
      ]
     },
     "metadata": {},
     "output_type": "display_data"
    },
    {
     "name": "stdout",
     "output_type": "stream",
     "text": [
      "(96, 64)\n"
     ]
    },
    {
     "data": {
      "text/plain": [
       "<Figure size 640x480 with 2 Axes>"
      ]
     },
     "metadata": {},
     "output_type": "display_data"
    }
   ],
   "source": [
    "from skimage import io\n",
    "\n",
    "for x in X:\n",
    "    print(x.shape)\n",
    "    io.imshow(x)\n",
    "    io.show()\n",
    "    "
   ]
  },
  {
   "cell_type": "code",
   "execution_count": 30,
   "metadata": {},
   "outputs": [],
   "source": [
    "import csv\n",
    "import json\n",
    "count = 0\n",
    "\n",
    "def cleanDir():\n",
    "    subprocess.call(['rm', '*.wav'])\n",
    "\n",
    "def downloadClass(classLabels = []):\n",
    "    count = 0\n",
    "    with open('balanced_train_segments.csv', 'r', newline='') as csvfile:\n",
    "        spamreader = csv.reader(csvfile, delimiter=',', quotechar=\"'\")\n",
    "        for row in spamreader:\n",
    "            count += 1\n",
    "            if (count >= 5):\n",
    "                if (classLabels == None):\n",
    "                    try:\n",
    "                        download_sample(row[0], row[1], row[2]) \n",
    "                    except Exception as inst:\n",
    "                        print(inst)\n",
    "                        \n",
    "                else:\n",
    "                    string = ','.join(row[3:])\n",
    "                    labels = string[2:-1].split(',')\n",
    "                    for l in labels:\n",
    "                        if(l in classLabels):\n",
    "                            try:\n",
    "                                download_sample(row[0], row[1], row[2]) \n",
    "                            except Exception as inst:\n",
    "                                print(inst)\n",
    "\n",
    "                            "
   ]
  },
  {
   "cell_type": "code",
   "execution_count": 31,
   "metadata": {},
   "outputs": [],
   "source": [
    "cleanDir()\n",
    "#downloadClass(['/m/032s66'])"
   ]
  },
  {
   "cell_type": "code",
   "execution_count": 90,
   "metadata": {},
   "outputs": [
    {
     "data": {
      "text/plain": [
       "['wd1UDEHMQ.wav',\n",
       " '_zqJWgALM.wav',\n",
       " 'wuZGdJKtI.wav',\n",
       " 'QulLl44zs.wav',\n",
       " 'setup.py',\n",
       " '3zVgCg1-xy0.wav',\n",
       " 'Z6S54lpqI.wav',\n",
       " 'WWFYcVJto.wav',\n",
       " 'FDFO-hImAPs.wav',\n",
       " 'Lp3KfgK__8g.wav',\n",
       " 'pHC25Ia8Dxo.wav',\n",
       " 'vxsHG1tuo.wav',\n",
       " 'qtNTHnXOQew.wav',\n",
       " 'AaUZb-iRStE.wav',\n",
       " 'iZFckAT5M.wav',\n",
       " 'K7tH9GNSg.wav',\n",
       " 'jmEgwc14E.wav',\n",
       " 'wSBXshFjw.wav',\n",
       " 'oTEXk4wk37k.wav',\n",
       " 'models',\n",
       " 'Kmwnd0cwVIU.wav',\n",
       " 'Gd1ucd8r0.wav',\n",
       " 'cFQAUzaaC5E.wav',\n",
       " 'iyB-_U-E5hI.wav',\n",
       " 'Pg5gfWwTs.wav',\n",
       " 'sGCMfaKbs.wav',\n",
       " 'gYBXpwc6gdg.wav',\n",
       " '50dZu3Na8.wav',\n",
       " 'Ch5nAE76soo.wav',\n",
       " 'pLnHpv-W2Tc.wav',\n",
       " 'OasM0HvsY.wav',\n",
       " 'k6ra5xM5H7Y.wav',\n",
       " 'rqkC1mt94.wav',\n",
       " 'data',\n",
       " '8nJ0kUK3E.wav',\n",
       " 'wksRHzSEc.wav',\n",
       " 'TFl2cBk1rgo.wav',\n",
       " 'nAcLHecSM.wav',\n",
       " 'i-2fDHPXLpo.wav',\n",
       " 'DIie2jq3xBQ.wav',\n",
       " 'M3QwAAZQ0.wav',\n",
       " 'ZTxQaNfis.wav',\n",
       " 'Um1PTYpB0.wav',\n",
       " 'mhFeUbaq9uc.wav',\n",
       " 'Iwrkpw3-g.wav',\n",
       " 'ApQ80QRiE.wav',\n",
       " 'HMIxuAtv8.wav',\n",
       " '.ipynb_checkpoints',\n",
       " 'C74iJaS8o.wav',\n",
       " 'L7O46o9Wo.wav',\n",
       " '9LDw8ke99oA.wav',\n",
       " 'SK-10z-kQ.wav',\n",
       " 'A7dQ-uxR0.wav',\n",
       " '2mvR7GLK8.wav',\n",
       " 'AulW5N9PE.wav',\n",
       " '23Ktqjrmw.wav',\n",
       " 'yc_bzicMBzg.wav',\n",
       " 'vXpmjNcONdo.wav',\n",
       " 'FLFtJj5Mc.wav',\n",
       " 'sPtje4_RAJc.wav',\n",
       " 'ZQcJJBmj4.wav',\n",
       " 'sjO2kEXRA.wav',\n",
       " 'zvUOhpdp0.wav',\n",
       " 'Ckr7KFkYg.wav',\n",
       " 'TbDZszb3nNs.wav',\n",
       " 'DzLzhjqPw.wav',\n",
       " 'cWRyAikxMZg.wav',\n",
       " '89QvaK9Zffc.wav',\n",
       " 'PzzMf6W8g.wav',\n",
       " 'requirements.txt',\n",
       " '6pPAt0cBw.wav',\n",
       " '.gitignore',\n",
       " 'bIvXUoEUW_4.wav',\n",
       " '6nDjSCGkM.wav',\n",
       " 'rfMKz1xE8.wav',\n",
       " '4fMb7P--w.wav',\n",
       " 'UnAYJUXMjsM.wav',\n",
       " 'NJXKJUubRKo.wav',\n",
       " 'ontology.json',\n",
       " 'o1mkKE4sw.wav',\n",
       " 'uulzjQP8k.wav',\n",
       " 'u9MoBesaX6A.wav',\n",
       " '90ezvPe14.wav',\n",
       " 'FJ87ZwU-A.wav',\n",
       " 'by3DVW57s.wav',\n",
       " 'AmF2OyiHLP4.wav',\n",
       " 'yp6cmUPxA.wav',\n",
       " 'elIR7hiMc.wav',\n",
       " 'd-sCXmue0.wav',\n",
       " 'q-8R7CB44.wav',\n",
       " 'gkNlEuGT0.wav',\n",
       " 'fJWw9cM2s.wav',\n",
       " 'oxQyuDoFno0.wav',\n",
       " 'm1ZWo5vMs.wav',\n",
       " '3Z4mGbIyY.wav',\n",
       " 'CYE9YZEbc.wav',\n",
       " 'Sb-246qZ8.wav',\n",
       " 'CtV9mKAmk.wav',\n",
       " 'b3KEwK1Uc.wav',\n",
       " 't9O1WbYKiGE.wav',\n",
       " 'ykkVTInYctY.wav',\n",
       " 'j-NI9vgkk.wav',\n",
       " 'WiBG8N10A.wav',\n",
       " 'Q5QaNPGuU.wav',\n",
       " 'GOCTV12hBDo.wav',\n",
       " 'yM8m5D8uE.wav',\n",
       " 'G8iTuTi8ywU.wav',\n",
       " 'kRSOra2qA.wav',\n",
       " 'IEyvrZfHoZQ.wav',\n",
       " 'Dy5CNoNxc.wav',\n",
       " 'sox-14.4.2',\n",
       " 'w7bibTj4A.wav',\n",
       " 'E7tjiOSoA.wav',\n",
       " '_K_5nwhCk.wav',\n",
       " '0cgaJkNGw.wav',\n",
       " 'J5DvWC_yY.wav',\n",
       " 'cL7tojfd4.wav',\n",
       " 'V3FtnzYLo.wav',\n",
       " 'lnrNzyDHTe8.wav',\n",
       " 'r7VBDgfPBco.wav',\n",
       " '5vLMqdKZo.wav',\n",
       " 'README.md',\n",
       " 'a2018-projet',\n",
       " 'Kno1Qt815WI.wav',\n",
       " '8vo-GTOa0.wav',\n",
       " 'r1yR8S-rY.wav',\n",
       " 'h1a-W7rrk.wav',\n",
       " 'mB2FAS0DNkk.wav',\n",
       " '_DimZ1upYMU.wav',\n",
       " 'zoYrz6Mi8.wav',\n",
       " 'Zpp-w5TcU.wav',\n",
       " 'k2g9nHMaGJg.wav',\n",
       " 'mSM-W0CorRY.wav',\n",
       " 'P-O7API0k.wav',\n",
       " '6aVDXoU2j2M.wav',\n",
       " 'LkvIaeBY164.wav',\n",
       " 'Qbu_BsZ9o.wav',\n",
       " 'rL0BXsO40.wav',\n",
       " 'balanced_train_segments.csv',\n",
       " 'weoQRFmc0.wav',\n",
       " 'lSaiA2tIgw0.wav',\n",
       " 'KCBBd1QRs.wav',\n",
       " 'NCHPXfMhM.wav',\n",
       " 'BVVym00rc.wav',\n",
       " 'Youtube to mp3.ipynb',\n",
       " 'FOwlMCdto.wav',\n",
       " '1wqkBBMHJA8.wav',\n",
       " 'CtPNVwU7I.wav',\n",
       " 'DFdYd-jsIsA.wav',\n",
       " 'P_q4EsZ1rzw.wav',\n",
       " '2-7mo72jA.wav',\n",
       " '_lySaTeNM.wav',\n",
       " '0F1Y6aMZk.wav',\n",
       " 'Kkv8j42mI.wav',\n",
       " 'V9u9CgGerd0.wav',\n",
       " 'AB0YA4Jtw.wav',\n",
       " '1MvzeSDi10M.wav',\n",
       " '09l9A1XVbpY.wav',\n",
       " 'wB_wWn2ZQ.wav',\n",
       " 'PSJZT5qYU.wav',\n",
       " 'Vo5VQfsDc.wav',\n",
       " 'EH2FUWUTg.wav',\n",
       " '.git',\n",
       " 'k62G1WyG8.wav',\n",
       " 'NYDTluKDZLk.wav',\n",
       " 'GaiVGQ33w.wav',\n",
       " '8qO4-wBvY.wav',\n",
       " '4Pc9rWewLIY.wav',\n",
       " '4LUcMV25E.wav',\n",
       " 'tests',\n",
       " 'vYIA1bLxNng.wav',\n",
       " 'tbYM5Wtz-U8.wav',\n",
       " 'PihZzUq_k.wav',\n",
       " 'auJ1KBMdY.wav']"
      ]
     },
     "execution_count": 90,
     "metadata": {},
     "output_type": "execute_result"
    }
   ],
   "source": [
    "os.listdir()\n"
   ]
  }
 ],
 "metadata": {
  "kernelspec": {
   "display_name": "Python 3",
   "language": "python",
   "name": "python3"
  },
  "language_info": {
   "codemirror_mode": {
    "name": "ipython",
    "version": 3
   },
   "file_extension": ".py",
   "mimetype": "text/x-python",
   "name": "python",
   "nbconvert_exporter": "python",
   "pygments_lexer": "ipython3",
   "version": "3.6.7"
  }
 },
 "nbformat": 4,
 "nbformat_minor": 2
}
